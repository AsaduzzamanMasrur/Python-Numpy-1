{
  "cells": [
    {
      "cell_type": "markdown",
      "metadata": {
        "id": "d79rkEHKd9So"
      },
      "source": [
        "# NumPy Exercises\n",
        "\n"
      ]
    },
    {
      "cell_type": "markdown",
      "metadata": {
        "id": "nh--jaYed9Sp"
      },
      "source": [
        "#### Import NumPy as np"
      ]
    },
    {
      "cell_type": "code",
      "execution_count": null,
      "metadata": {
        "collapsed": true,
        "id": "1Uhvc2tad9Sp"
      },
      "outputs": [],
      "source": [
        "import numpy as np"
      ]
    },
    {
      "cell_type": "markdown",
      "metadata": {
        "id": "aC3PPgFMd9Sp"
      },
      "source": [
        "#### Create an array of 10 zeros"
      ]
    },
    {
      "cell_type": "code",
      "execution_count": null,
      "metadata": {
        "id": "evko21wBd9Sq",
        "outputId": "efad135c-4f2c-460a-e6d2-e6d0a9fc3110",
        "colab": {
          "base_uri": "https://localhost:8080/"
        }
      },
      "outputs": [
        {
          "output_type": "execute_result",
          "data": {
            "text/plain": [
              "array([0., 0., 0., 0., 0., 0., 0., 0., 0., 0.])"
            ]
          },
          "metadata": {},
          "execution_count": 2
        }
      ],
      "source": [
        "np.zeros(10)"
      ]
    },
    {
      "cell_type": "markdown",
      "metadata": {
        "id": "jAtc0afPd9Sq"
      },
      "source": [
        "#### Create an array of 10 ones"
      ]
    },
    {
      "cell_type": "code",
      "execution_count": null,
      "metadata": {
        "id": "CHoS0hnNd9Sq",
        "outputId": "762766d7-5065-49ce-ebb4-daa91cb0556c",
        "colab": {
          "base_uri": "https://localhost:8080/"
        }
      },
      "outputs": [
        {
          "output_type": "execute_result",
          "data": {
            "text/plain": [
              "array([1., 1., 1., 1., 1., 1., 1., 1., 1., 1.])"
            ]
          },
          "metadata": {},
          "execution_count": 3
        }
      ],
      "source": [
        "np.ones(10)"
      ]
    },
    {
      "cell_type": "markdown",
      "metadata": {
        "id": "hrvyUx1Bd9Sr"
      },
      "source": [
        "#### Create an array of 10 fives"
      ]
    },
    {
      "cell_type": "code",
      "execution_count": null,
      "metadata": {
        "id": "C_0Ak2rEd9Sr",
        "outputId": "88530331-81a2-4e1d-cb8d-2993fd828a10",
        "colab": {
          "base_uri": "https://localhost:8080/"
        }
      },
      "outputs": [
        {
          "output_type": "execute_result",
          "data": {
            "text/plain": [
              "array([5., 5., 5., 5., 5., 5., 5., 5., 5., 5.])"
            ]
          },
          "metadata": {},
          "execution_count": 4
        }
      ],
      "source": [
        "np.ones(10) * 5"
      ]
    },
    {
      "cell_type": "code",
      "source": [
        "np.arange(10,51,2)"
      ],
      "metadata": {
        "colab": {
          "base_uri": "https://localhost:8080/"
        },
        "id": "uUvaOZXqdeF1",
        "outputId": "494a5852-5db1-488f-a436-ce17ad91cd77"
      },
      "execution_count": null,
      "outputs": [
        {
          "output_type": "execute_result",
          "data": {
            "text/plain": [
              "array([10, 12, 14, 16, 18, 20, 22, 24, 26, 28, 30, 32, 34, 36, 38, 40, 42,\n",
              "       44, 46, 48, 50])"
            ]
          },
          "metadata": {},
          "execution_count": 5
        }
      ]
    },
    {
      "cell_type": "markdown",
      "metadata": {
        "id": "1tzj_B2Hd9Sr"
      },
      "source": [
        "#### Create an array of the integers from 10 to 50"
      ]
    },
    {
      "cell_type": "code",
      "execution_count": null,
      "metadata": {
        "id": "zc4nccy_d9Sr",
        "outputId": "48486509-5716-4f8b-caeb-0b3e7fc598e6",
        "colab": {
          "base_uri": "https://localhost:8080/"
        }
      },
      "outputs": [
        {
          "output_type": "execute_result",
          "data": {
            "text/plain": [
              "array([[1., 0., 0., 0.],\n",
              "       [0., 1., 0., 0.],\n",
              "       [0., 0., 1., 0.],\n",
              "       [0., 0., 0., 1.]])"
            ]
          },
          "metadata": {},
          "execution_count": 6
        }
      ],
      "source": [
        "np.eye(4)"
      ]
    },
    {
      "cell_type": "code",
      "source": [],
      "metadata": {
        "id": "yTzrtUd_drq_"
      },
      "execution_count": null,
      "outputs": []
    },
    {
      "cell_type": "markdown",
      "metadata": {
        "id": "yKyC4EAZd9Sr"
      },
      "source": [
        "#### Create an array of all the even integers from 10 to 50"
      ]
    },
    {
      "cell_type": "code",
      "execution_count": null,
      "metadata": {
        "id": "f1eUhc71d9Ss",
        "outputId": "f6c823b3-b190-4045-e8c2-70157df4df3c",
        "colab": {
          "base_uri": "https://localhost:8080/"
        }
      },
      "outputs": [
        {
          "output_type": "execute_result",
          "data": {
            "text/plain": [
              "array([10, 12, 14, 16, 18, 20, 22, 24, 26, 28, 30, 32, 34, 36, 38, 40, 42,\n",
              "       44, 46, 48, 50])"
            ]
          },
          "metadata": {},
          "execution_count": 7
        }
      ],
      "source": [
        "np.arange(10,51,2)"
      ]
    },
    {
      "cell_type": "markdown",
      "metadata": {
        "id": "9zoXZEuXd9Ss"
      },
      "source": [
        "#### Create a 3x3 matrix with values ranging from 0 to 8"
      ]
    },
    {
      "cell_type": "code",
      "execution_count": null,
      "metadata": {
        "id": "GkOB1747d9Ss",
        "outputId": "0fcb8d6c-6f26-4e89-92c0-f0afd8a16d94",
        "colab": {
          "base_uri": "https://localhost:8080/"
        }
      },
      "outputs": [
        {
          "output_type": "execute_result",
          "data": {
            "text/plain": [
              "array([[0, 1, 2],\n",
              "       [3, 4, 5],\n",
              "       [6, 7, 8]])"
            ]
          },
          "metadata": {},
          "execution_count": 8
        }
      ],
      "source": [
        "np.arange(9).reshape(3,3)"
      ]
    },
    {
      "cell_type": "markdown",
      "metadata": {
        "id": "zrdiVxsCd9Ss"
      },
      "source": [
        "#### Create a 3x3 identity matrix"
      ]
    },
    {
      "cell_type": "code",
      "execution_count": null,
      "metadata": {
        "id": "UxIOA1Red9Ss",
        "outputId": "97f60f19-d802-42cb-d790-aaf0fb36ede7"
      },
      "outputs": [
        {
          "data": {
            "text/plain": [
              "array([[ 1.,  0.,  0.],\n",
              "       [ 0.,  1.,  0.],\n",
              "       [ 0.,  0.,  1.]])"
            ]
          },
          "execution_count": 8,
          "metadata": {},
          "output_type": "execute_result"
        }
      ],
      "source": [
        "np.eye(3)"
      ]
    },
    {
      "cell_type": "markdown",
      "metadata": {
        "id": "NSEU90Cfd9Ss"
      },
      "source": [
        "#### Use NumPy to generate a random number between 0 and 1"
      ]
    },
    {
      "cell_type": "code",
      "execution_count": null,
      "metadata": {
        "id": "q5PoNcCWd9Ss",
        "outputId": "ff86a4d1-9946-4e75-d1a2-059d641c8f69",
        "colab": {
          "base_uri": "https://localhost:8080/"
        }
      },
      "outputs": [
        {
          "output_type": "execute_result",
          "data": {
            "text/plain": [
              "array([0.8091395])"
            ]
          },
          "metadata": {},
          "execution_count": 9
        }
      ],
      "source": [
        "np.random.rand(1)"
      ]
    },
    {
      "cell_type": "markdown",
      "source": [
        "Random Integers"
      ],
      "metadata": {
        "id": "2DOBU0szgJOQ"
      }
    },
    {
      "cell_type": "markdown",
      "source": [
        "Select a int number from -10 to 10"
      ],
      "metadata": {
        "id": "3gHwgn_ZgbKY"
      }
    },
    {
      "cell_type": "code",
      "source": [
        "np.random.randint(-10,11)"
      ],
      "metadata": {
        "colab": {
          "base_uri": "https://localhost:8080/"
        },
        "id": "knISoTtYgMD4",
        "outputId": "0fb49be6-cd4b-41fa-bdd0-6665a3aea096"
      },
      "execution_count": null,
      "outputs": [
        {
          "output_type": "execute_result",
          "data": {
            "text/plain": [
              "-6"
            ]
          },
          "metadata": {},
          "execution_count": 10
        }
      ]
    },
    {
      "cell_type": "markdown",
      "source": [
        "make a 5 by 5 matrix with numbers from -10 to 10"
      ],
      "metadata": {
        "id": "3GzJxMBBggW0"
      }
    },
    {
      "cell_type": "code",
      "source": [
        "np.random.randint(-10,11,(5,5))"
      ],
      "metadata": {
        "colab": {
          "base_uri": "https://localhost:8080/"
        },
        "id": "4Cu1-spjgSLm",
        "outputId": "aeb72199-9607-4dc6-ce75-04b2d641944f"
      },
      "execution_count": null,
      "outputs": [
        {
          "output_type": "execute_result",
          "data": {
            "text/plain": [
              "array([[ -9,   8,  -8,   3,   6],\n",
              "       [-10,  -8,  -2, -10,   9],\n",
              "       [ -8,   6,   3,  -4,  -7],\n",
              "       [ -4,  -8,  -8,  -9,  -4],\n",
              "       [ -5,  -3,  -7,  -8,   0]])"
            ]
          },
          "metadata": {},
          "execution_count": 2
        }
      ]
    },
    {
      "cell_type": "code",
      "source": [
        "np.random.randint(-5,41,(4,4))"
      ],
      "metadata": {
        "colab": {
          "base_uri": "https://localhost:8080/"
        },
        "id": "mgTz4Y3z5cO2",
        "outputId": "b237f998-20b7-4b29-c9c4-10afb0f3454d"
      },
      "execution_count": null,
      "outputs": [
        {
          "output_type": "execute_result",
          "data": {
            "text/plain": [
              "array([[ 2, 19, 36,  0],\n",
              "       [16, 37, 18, 31],\n",
              "       [12, 13, 13, 26],\n",
              "       [-2, 25, 25, -2]])"
            ]
          },
          "metadata": {},
          "execution_count": 11
        }
      ]
    },
    {
      "cell_type": "markdown",
      "metadata": {
        "id": "uX4EXUwId9St"
      },
      "source": [
        "#### Use NumPy to generate an array of 30 random numbers sampled from a standard normal distribution"
      ]
    },
    {
      "cell_type": "code",
      "execution_count": null,
      "metadata": {
        "colab": {
          "base_uri": "https://localhost:8080/"
        },
        "id": "_hnnUay6d9St",
        "outputId": "a8708bd0-9888-4def-80a2-dd794482a2da"
      },
      "outputs": [
        {
          "output_type": "execute_result",
          "data": {
            "text/plain": [
              "array([-0.45265241, -1.45669893,  0.0158421 ,  0.76066271,  0.88373116,\n",
              "        0.27359074,  1.88142618, -0.67125426,  1.91488688,  1.10942848,\n",
              "       -0.76707084,  0.03611061, -0.69104675,  0.02257664, -0.82155899,\n",
              "       -0.093366  ,  1.07701609, -0.78231078,  2.04356396,  1.02726154,\n",
              "       -0.18941539,  0.57799292, -1.17694262, -0.61763701,  1.78092717,\n",
              "        0.45281333, -0.44148847,  0.72626908, -0.65519043, -0.56329473])"
            ]
          },
          "metadata": {},
          "execution_count": 2
        }
      ],
      "source": [
        "np.random.randn(30)"
      ]
    },
    {
      "cell_type": "markdown",
      "metadata": {
        "id": "mBVvxC8id9St"
      },
      "source": [
        "#### Create the following matrix:\n",
        "numbers ranging from 0.01 to 1 , a total of 100 numbers and the matrix size of 10 by 10"
      ]
    },
    {
      "cell_type": "code",
      "source": [
        "np.random.randint(1,100,(10,10)) # practice for my understanding"
      ],
      "metadata": {
        "colab": {
          "base_uri": "https://localhost:8080/"
        },
        "id": "ur9w-Q4s519U",
        "outputId": "546469d2-6022-4cf0-a162-8787e5de04be"
      },
      "execution_count": null,
      "outputs": [
        {
          "output_type": "execute_result",
          "data": {
            "text/plain": [
              "array([[1.1, 1.2, 4.7, 0.1, 4.5, 1. , 8.1, 8.9, 3.4, 9.8],\n",
              "       [8.6, 2.5, 1.1, 1.1, 6.7, 2.6, 3.7, 6.3, 2.6, 4.8],\n",
              "       [8.6, 5.1, 7.5, 3.9, 3.4, 2. , 2. , 8.6, 7. , 5.3],\n",
              "       [4.8, 1.3, 4.8, 1.1, 9.6, 6.7, 7.3, 7.9, 7.6, 3.4],\n",
              "       [5. , 6.5, 3. , 7.8, 6.9, 2.8, 1.1, 1.7, 4.5, 0.7],\n",
              "       [3.4, 5.2, 9.9, 1.8, 7.6, 7.7, 4.2, 0.2, 3.2, 0.4],\n",
              "       [4.7, 5.3, 1.9, 5. , 3.9, 0.1, 1.5, 1.5, 5.2, 4.2],\n",
              "       [4.4, 5.2, 2.4, 4.1, 7.7, 6.8, 2.3, 0.5, 8.3, 1.5],\n",
              "       [1.1, 0.5, 4. , 9.3, 4.1, 7.3, 6. , 5.9, 1.2, 7.4],\n",
              "       [2.4, 7.6, 5.4, 1.4, 1.9, 8. , 8.3, 9.3, 7.6, 0.3]])"
            ]
          },
          "metadata": {},
          "execution_count": 17
        }
      ]
    },
    {
      "cell_type": "code",
      "execution_count": null,
      "metadata": {
        "colab": {
          "base_uri": "https://localhost:8080/"
        },
        "id": "El6cf9Vod9St",
        "outputId": "64ca3954-7694-4e25-bdad-bbc225bbcc0d"
      },
      "outputs": [
        {
          "output_type": "execute_result",
          "data": {
            "text/plain": [
              "array([[0.01, 0.02, 0.03, 0.04, 0.05, 0.06, 0.07, 0.08, 0.09, 0.1 ],\n",
              "       [0.11, 0.12, 0.13, 0.14, 0.15, 0.16, 0.17, 0.18, 0.19, 0.2 ],\n",
              "       [0.21, 0.22, 0.23, 0.24, 0.25, 0.26, 0.27, 0.28, 0.29, 0.3 ],\n",
              "       [0.31, 0.32, 0.33, 0.34, 0.35, 0.36, 0.37, 0.38, 0.39, 0.4 ],\n",
              "       [0.41, 0.42, 0.43, 0.44, 0.45, 0.46, 0.47, 0.48, 0.49, 0.5 ],\n",
              "       [0.51, 0.52, 0.53, 0.54, 0.55, 0.56, 0.57, 0.58, 0.59, 0.6 ],\n",
              "       [0.61, 0.62, 0.63, 0.64, 0.65, 0.66, 0.67, 0.68, 0.69, 0.7 ],\n",
              "       [0.71, 0.72, 0.73, 0.74, 0.75, 0.76, 0.77, 0.78, 0.79, 0.8 ],\n",
              "       [0.81, 0.82, 0.83, 0.84, 0.85, 0.86, 0.87, 0.88, 0.89, 0.9 ],\n",
              "       [0.91, 0.92, 0.93, 0.94, 0.95, 0.96, 0.97, 0.98, 0.99, 1.  ]])"
            ]
          },
          "metadata": {},
          "execution_count": 15
        }
      ],
      "source": [
        "np.arange(1,101).reshape(10,10) / 100"
      ]
    },
    {
      "cell_type": "markdown",
      "metadata": {
        "id": "kBTEUmfzd9St"
      },
      "source": [
        "#### Create an array of 10 linearly spaced points between 0 and 1:"
      ]
    },
    {
      "cell_type": "code",
      "execution_count": null,
      "metadata": {
        "colab": {
          "base_uri": "https://localhost:8080/"
        },
        "id": "52v5UG3Sd9Su",
        "outputId": "e89dd5ea-84cc-440d-9c3f-ffcf388f3a8e"
      },
      "outputs": [
        {
          "output_type": "execute_result",
          "data": {
            "text/plain": [
              "array([0.        , 0.11111111, 0.22222222, 0.33333333, 0.44444444,\n",
              "       0.55555556, 0.66666667, 0.77777778, 0.88888889, 1.        ])"
            ]
          },
          "metadata": {},
          "execution_count": 7
        }
      ],
      "source": [
        "np.linspace(0,1,10)"
      ]
    },
    {
      "cell_type": "code",
      "source": [
        "np.linspace(1,2)"
      ],
      "metadata": {
        "colab": {
          "base_uri": "https://localhost:8080/"
        },
        "id": "wCu6Ey-Y9h_Z",
        "outputId": "ae338ccf-8479-4161-ed48-c91d15209e31"
      },
      "execution_count": null,
      "outputs": [
        {
          "output_type": "execute_result",
          "data": {
            "text/plain": [
              "array([1.        , 1.02040816, 1.04081633, 1.06122449, 1.08163265,\n",
              "       1.10204082, 1.12244898, 1.14285714, 1.16326531, 1.18367347,\n",
              "       1.20408163, 1.2244898 , 1.24489796, 1.26530612, 1.28571429,\n",
              "       1.30612245, 1.32653061, 1.34693878, 1.36734694, 1.3877551 ,\n",
              "       1.40816327, 1.42857143, 1.44897959, 1.46938776, 1.48979592,\n",
              "       1.51020408, 1.53061224, 1.55102041, 1.57142857, 1.59183673,\n",
              "       1.6122449 , 1.63265306, 1.65306122, 1.67346939, 1.69387755,\n",
              "       1.71428571, 1.73469388, 1.75510204, 1.7755102 , 1.79591837,\n",
              "       1.81632653, 1.83673469, 1.85714286, 1.87755102, 1.89795918,\n",
              "       1.91836735, 1.93877551, 1.95918367, 1.97959184, 2.        ])"
            ]
          },
          "metadata": {},
          "execution_count": 19
        }
      ]
    },
    {
      "cell_type": "markdown",
      "source": [
        "In the following code, what do you think a predefined value is?  "
      ],
      "metadata": {
        "id": "LLv2SzI-fQaR"
      }
    },
    {
      "cell_type": "code",
      "source": [
        "np.linspace(0,1)"
      ],
      "metadata": {
        "colab": {
          "base_uri": "https://localhost:8080/"
        },
        "id": "4N4MK7VSfLvM",
        "outputId": "b01d0748-77cb-4092-f65d-48a8195b6faf"
      },
      "execution_count": null,
      "outputs": [
        {
          "output_type": "execute_result",
          "data": {
            "text/plain": [
              "array([0.        , 0.02040816, 0.04081633, 0.06122449, 0.08163265,\n",
              "       0.10204082, 0.12244898, 0.14285714, 0.16326531, 0.18367347,\n",
              "       0.20408163, 0.2244898 , 0.24489796, 0.26530612, 0.28571429,\n",
              "       0.30612245, 0.32653061, 0.34693878, 0.36734694, 0.3877551 ,\n",
              "       0.40816327, 0.42857143, 0.44897959, 0.46938776, 0.48979592,\n",
              "       0.51020408, 0.53061224, 0.55102041, 0.57142857, 0.59183673,\n",
              "       0.6122449 , 0.63265306, 0.65306122, 0.67346939, 0.69387755,\n",
              "       0.71428571, 0.73469388, 0.75510204, 0.7755102 , 0.79591837,\n",
              "       0.81632653, 0.83673469, 0.85714286, 0.87755102, 0.89795918,\n",
              "       0.91836735, 0.93877551, 0.95918367, 0.97959184, 1.        ])"
            ]
          },
          "metadata": {},
          "execution_count": 18
        }
      ]
    },
    {
      "cell_type": "markdown",
      "metadata": {
        "id": "h21y8i9id9Su"
      },
      "source": [
        "## Numpy Indexing and Selection\n",
        "\n",
        "Lets make a matrix and try to select different rows and columns from it"
      ]
    },
    {
      "cell_type": "code",
      "source": [
        "mat = np.random.randint(1,26,(5,5)) # this is random valu and it can change everytime\n",
        "mat"
      ],
      "metadata": {
        "colab": {
          "base_uri": "https://localhost:8080/"
        },
        "id": "PVkCPKV5_Leb",
        "outputId": "5a6725d7-6d12-4951-bc79-2f4db28d8d53"
      },
      "execution_count": null,
      "outputs": [
        {
          "output_type": "execute_result",
          "data": {
            "text/plain": [
              "array([[15,  2,  8,  8,  6],\n",
              "       [ 4, 24, 19, 16, 10],\n",
              "       [15, 21, 21,  5,  5],\n",
              "       [20, 18, 11,  2, 23],\n",
              "       [ 8,  7,  1, 10, 24]])"
            ]
          },
          "metadata": {},
          "execution_count": 4
        }
      ]
    },
    {
      "cell_type": "code",
      "execution_count": null,
      "metadata": {
        "colab": {
          "base_uri": "https://localhost:8080/"
        },
        "id": "RLu9jpqOd9Su",
        "outputId": "b0302a45-8a81-42f9-fff9-5caf0f0e2b05"
      },
      "outputs": [
        {
          "output_type": "execute_result",
          "data": {
            "text/plain": [
              "array([[ 1,  2,  3,  4,  5],\n",
              "       [ 6,  7,  8,  9, 10],\n",
              "       [11, 12, 13, 14, 15],\n",
              "       [16, 17, 18, 19, 20],\n",
              "       [21, 22, 23, 24, 25]])"
            ]
          },
          "metadata": {},
          "execution_count": 5
        }
      ],
      "source": [
        "mat = np.arange(1,26).reshape(5,5) # making any sort of matrix using thic special code\n",
        "mat"
      ]
    },
    {
      "cell_type": "markdown",
      "source": [
        "select all rows from 3rd row and the second column"
      ],
      "metadata": {
        "id": "god110Nad9Su"
      }
    },
    {
      "cell_type": "code",
      "execution_count": null,
      "metadata": {
        "colab": {
          "base_uri": "https://localhost:8080/"
        },
        "id": "7biQvOkYd9Su",
        "outputId": "83dd6c33-a261-4108-caee-915bc05d4be9"
      },
      "outputs": [
        {
          "output_type": "execute_result",
          "data": {
            "text/plain": [
              "array([[12, 13, 14, 15],\n",
              "       [17, 18, 19, 20],\n",
              "       [22, 23, 24, 25]])"
            ]
          },
          "metadata": {},
          "execution_count": 6
        }
      ],
      "source": [
        "mat[2:,1:] # matrix always start with 0 and frist one is Row (always)"
      ]
    },
    {
      "cell_type": "code",
      "source": [
        "mat[1,2] # when you need any specific number in matrix you can use this particular code"
      ],
      "metadata": {
        "colab": {
          "base_uri": "https://localhost:8080/"
        },
        "id": "dc4blhiqBiBO",
        "outputId": "5e4b4eb3-1ed3-4276-ae40-a709baeec8a9"
      },
      "execution_count": null,
      "outputs": [
        {
          "output_type": "execute_result",
          "data": {
            "text/plain": [
              "8"
            ]
          },
          "metadata": {},
          "execution_count": 7
        }
      ]
    },
    {
      "cell_type": "code",
      "source": [
        "mat[3,4]"
      ],
      "metadata": {
        "colab": {
          "base_uri": "https://localhost:8080/"
        },
        "id": "iFs-zJiShyLx",
        "outputId": "5069c570-cc23-4ea8-f46b-33dec12d0fb8"
      },
      "execution_count": null,
      "outputs": [
        {
          "output_type": "execute_result",
          "data": {
            "text/plain": [
              "20"
            ]
          },
          "metadata": {},
          "execution_count": 8
        }
      ]
    },
    {
      "cell_type": "markdown",
      "source": [
        "Take number 20 from the mat matrix"
      ],
      "metadata": {
        "id": "VersYIUNd9Sv"
      }
    },
    {
      "cell_type": "code",
      "execution_count": null,
      "metadata": {
        "colab": {
          "base_uri": "https://localhost:8080/"
        },
        "id": "kjWnw2nkd9Sv",
        "outputId": "1fb41156-7d0c-408c-c38a-e15bf456d1b4"
      },
      "outputs": [
        {
          "output_type": "execute_result",
          "data": {
            "text/plain": [
              "(1, 1)"
            ]
          },
          "metadata": {},
          "execution_count": 9
        }
      ],
      "source": [
        "mat[3:4,4:].shape"
      ]
    },
    {
      "cell_type": "markdown",
      "source": [
        "select all the rows till row number 4 in the 2nd column"
      ],
      "metadata": {
        "id": "vjqA6JrTd9Sv"
      }
    },
    {
      "cell_type": "code",
      "source": [],
      "metadata": {
        "id": "EPrqJ_T5ENB0"
      },
      "execution_count": null,
      "outputs": []
    },
    {
      "cell_type": "code",
      "execution_count": null,
      "metadata": {
        "colab": {
          "base_uri": "https://localhost:8080/"
        },
        "id": "YRpmyuoHd9Sv",
        "outputId": "43cd7d25-5850-44c3-8767-b450375ced8e"
      },
      "outputs": [
        {
          "output_type": "execute_result",
          "data": {
            "text/plain": [
              "array([[ 2],\n",
              "       [ 7],\n",
              "       [12]])"
            ]
          },
          "metadata": {},
          "execution_count": 10
        }
      ],
      "source": [
        "mat[:3,1:2] # finish this the upper code understanding before today (10) november morning need to finish the whole code untill night"
      ]
    },
    {
      "cell_type": "markdown",
      "source": [
        "Select the entire 5th row"
      ],
      "metadata": {
        "id": "pjmrcPRcd9Sv"
      }
    },
    {
      "cell_type": "code",
      "execution_count": null,
      "metadata": {
        "colab": {
          "base_uri": "https://localhost:8080/"
        },
        "id": "TFDGhjIyd9Sv",
        "outputId": "05a3782a-d17a-453f-8082-8318267a663d"
      },
      "outputs": [
        {
          "output_type": "execute_result",
          "data": {
            "text/plain": [
              "array([21, 22, 23, 24, 25])"
            ]
          },
          "metadata": {},
          "execution_count": 11
        }
      ],
      "source": [
        "mat[4,:]"
      ]
    },
    {
      "cell_type": "markdown",
      "source": [
        "Select all the columns between 4th row and the 5th row"
      ],
      "metadata": {
        "id": "7HGeUJT2d9Sv"
      }
    },
    {
      "cell_type": "code",
      "execution_count": null,
      "metadata": {
        "colab": {
          "base_uri": "https://localhost:8080/"
        },
        "id": "JE6-neSBd9Sw",
        "outputId": "a2fd82f0-8b4a-4f7a-cda1-c53ebb137719"
      },
      "outputs": [
        {
          "output_type": "execute_result",
          "data": {
            "text/plain": [
              "array([[16, 17, 18, 19, 20],\n",
              "       [21, 22, 23, 24, 25]])"
            ]
          },
          "metadata": {},
          "execution_count": 26
        }
      ],
      "source": [
        "mat[3:5,:]"
      ]
    },
    {
      "cell_type": "markdown",
      "metadata": {
        "id": "_ApKiy1Yd9Sw"
      },
      "source": [
        "### Now Lets do some operations"
      ]
    },
    {
      "cell_type": "markdown",
      "metadata": {
        "id": "7zcvaG2Wd9Sw"
      },
      "source": [
        "#### Get the sum of all the values in mat"
      ]
    },
    {
      "cell_type": "markdown",
      "source": [
        "What is the sum of all the elements in the matrix mat ?"
      ],
      "metadata": {
        "id": "O8yM1LhZh9fa"
      }
    },
    {
      "cell_type": "code",
      "execution_count": null,
      "metadata": {
        "colab": {
          "base_uri": "https://localhost:8080/"
        },
        "id": "CHqEs_0jd9Sw",
        "outputId": "fb40e3de-6f8d-4b9c-aced-edb0fd8cd723"
      },
      "outputs": [
        {
          "output_type": "execute_result",
          "data": {
            "text/plain": [
              "325"
            ]
          },
          "metadata": {},
          "execution_count": 12
        }
      ],
      "source": [
        "mat.sum()"
      ]
    },
    {
      "cell_type": "markdown",
      "metadata": {
        "id": "vlNBdSjAd9Sw"
      },
      "source": [
        "#### Get the standard deviation of the values in mat"
      ]
    },
    {
      "cell_type": "code",
      "execution_count": null,
      "metadata": {
        "id": "-BhS5O9bd9Sw",
        "outputId": "2e3376fd-af11-435a-bbea-34428624a61a",
        "colab": {
          "base_uri": "https://localhost:8080/"
        }
      },
      "outputs": [
        {
          "output_type": "execute_result",
          "data": {
            "text/plain": [
              "7.211102550927978"
            ]
          },
          "metadata": {},
          "execution_count": 13
        }
      ],
      "source": [
        "mat.std()"
      ]
    },
    {
      "cell_type": "code",
      "source": [
        "mat[3:5,:].sum()"
      ],
      "metadata": {
        "colab": {
          "base_uri": "https://localhost:8080/"
        },
        "id": "rtVfB7yLL0uN",
        "outputId": "201f0146-9eb5-4f9e-9a48-889b90808d74"
      },
      "execution_count": null,
      "outputs": [
        {
          "output_type": "execute_result",
          "data": {
            "text/plain": [
              "205"
            ]
          },
          "metadata": {},
          "execution_count": 14
        }
      ]
    },
    {
      "cell_type": "markdown",
      "metadata": {
        "id": "ieySksm7d9Sw"
      },
      "source": [
        "#### Get the sum of all the columns in mat"
      ]
    },
    {
      "cell_type": "code",
      "source": [
        "mat"
      ],
      "metadata": {
        "colab": {
          "base_uri": "https://localhost:8080/"
        },
        "id": "MzOS-HXhMi1T",
        "outputId": "2d45ff60-b427-4143-800e-b87d919971cd"
      },
      "execution_count": null,
      "outputs": [
        {
          "output_type": "execute_result",
          "data": {
            "text/plain": [
              "array([[ 1,  2,  3,  4,  5],\n",
              "       [ 6,  7,  8,  9, 10],\n",
              "       [11, 12, 13, 14, 15],\n",
              "       [16, 17, 18, 19, 20],\n",
              "       [21, 22, 23, 24, 25]])"
            ]
          },
          "metadata": {},
          "execution_count": 15
        }
      ]
    },
    {
      "cell_type": "code",
      "source": [
        "mat.shape[0]"
      ],
      "metadata": {
        "colab": {
          "base_uri": "https://localhost:8080/"
        },
        "id": "oJJK4O8HNk8B",
        "outputId": "01ff2a3f-65a6-44ae-8b16-1e9c3e6e5f99"
      },
      "execution_count": null,
      "outputs": [
        {
          "output_type": "execute_result",
          "data": {
            "text/plain": [
              "5"
            ]
          },
          "metadata": {},
          "execution_count": 16
        }
      ]
    },
    {
      "cell_type": "code",
      "execution_count": null,
      "metadata": {
        "id": "Qmz_TiMHd9Sw",
        "outputId": "e929005f-ce33-4f6c-f1a4-7e20ca202035",
        "colab": {
          "base_uri": "https://localhost:8080/"
        }
      },
      "outputs": [
        {
          "output_type": "execute_result",
          "data": {
            "text/plain": [
              "array([11., 12., 13., 14., 15.])"
            ]
          },
          "metadata": {},
          "execution_count": 17
        }
      ],
      "source": [
        "mat.sum(axis=0)/mat.shape[0] # axis 0 =  row and 1 = coloum"
      ]
    },
    {
      "cell_type": "markdown",
      "source": [
        "#### Get the sum of all the rows in mat"
      ],
      "metadata": {
        "id": "PYgn9YH-iIA2"
      }
    },
    {
      "cell_type": "code",
      "source": [
        "mat.sum(axis=1)"
      ],
      "metadata": {
        "colab": {
          "base_uri": "https://localhost:8080/"
        },
        "id": "IKbCEnk0iLUK",
        "outputId": "fa8a10e1-947a-4476-eb7c-614dca9a2ea4"
      },
      "execution_count": null,
      "outputs": [
        {
          "output_type": "execute_result",
          "data": {
            "text/plain": [
              "array([ 15,  40,  65,  90, 115])"
            ]
          },
          "metadata": {},
          "execution_count": 52
        }
      ]
    },
    {
      "cell_type": "markdown",
      "source": [
        "Lets convert lists into a vector"
      ],
      "metadata": {
        "id": "EecJt5DPiTW1"
      }
    },
    {
      "cell_type": "code",
      "source": [
        "my_list=[1,2,3,4,5,6,7]"
      ],
      "metadata": {
        "id": "7ZGsLn_uiZJ4"
      },
      "execution_count": null,
      "outputs": []
    },
    {
      "cell_type": "code",
      "source": [
        "type(my_list)"
      ],
      "metadata": {
        "colab": {
          "base_uri": "https://localhost:8080/"
        },
        "id": "oGz93ZhciZHM",
        "outputId": "e539ec69-669f-441b-c211-d6a0b49e69a7"
      },
      "execution_count": null,
      "outputs": [
        {
          "output_type": "execute_result",
          "data": {
            "text/plain": [
              "list"
            ]
          },
          "metadata": {},
          "execution_count": 54
        }
      ]
    },
    {
      "cell_type": "code",
      "source": [
        "my_vector_of_my_list=np.array(my_list)\n",
        "my_vector_of_my_list"
      ],
      "metadata": {
        "colab": {
          "base_uri": "https://localhost:8080/"
        },
        "id": "sAlhtD1uiZD3",
        "outputId": "483fe68a-c1d3-4bc0-af49-afc61b974e9c"
      },
      "execution_count": null,
      "outputs": [
        {
          "output_type": "execute_result",
          "data": {
            "text/plain": [
              "array([1, 2, 3, 4, 5, 6, 7])"
            ]
          },
          "metadata": {},
          "execution_count": 55
        }
      ]
    },
    {
      "cell_type": "code",
      "source": [
        "type(my_vector_of_my_list)"
      ],
      "metadata": {
        "colab": {
          "base_uri": "https://localhost:8080/"
        },
        "id": "exAQJ6rMiZAn",
        "outputId": "54c012c2-52b2-4cf0-ae9d-f9bc7a4aee65"
      },
      "execution_count": null,
      "outputs": [
        {
          "output_type": "execute_result",
          "data": {
            "text/plain": [
              "numpy.ndarray"
            ]
          },
          "metadata": {},
          "execution_count": 34
        }
      ]
    },
    {
      "cell_type": "markdown",
      "source": [
        "Lets make a function that does stuff we want with our matrix"
      ],
      "metadata": {
        "id": "wxgCRA82isun"
      }
    },
    {
      "cell_type": "code",
      "source": [
        "mat"
      ],
      "metadata": {
        "colab": {
          "base_uri": "https://localhost:8080/"
        },
        "id": "lKROL0vhisra",
        "outputId": "654f78b1-4714-47df-b7f1-babea5193738"
      },
      "execution_count": null,
      "outputs": [
        {
          "output_type": "execute_result",
          "data": {
            "text/plain": [
              "array([[ 1,  2,  3,  4,  5],\n",
              "       [ 6,  7,  8,  9, 10],\n",
              "       [11, 12, 13, 14, 15],\n",
              "       [16, 17, 18, 19, 20],\n",
              "       [21, 22, 23, 24, 25]])"
            ]
          },
          "metadata": {},
          "execution_count": 35
        }
      ]
    },
    {
      "cell_type": "markdown",
      "source": [
        "##Make a matrix generator function"
      ],
      "metadata": {
        "id": "GovQPUKBkAg4"
      }
    },
    {
      "cell_type": "code",
      "source": [
        "import numpy as np"
      ],
      "metadata": {
        "id": "7PRWStsBNHft"
      },
      "execution_count": null,
      "outputs": []
    },
    {
      "cell_type": "code",
      "source": [
        "np.random.randint(0,10,(2,3))"
      ],
      "metadata": {
        "colab": {
          "base_uri": "https://localhost:8080/"
        },
        "id": "ZUYIJHS8NM3c",
        "outputId": "08f62a92-a026-4659-cbd0-cfd8365d2c0e"
      },
      "execution_count": null,
      "outputs": [
        {
          "output_type": "execute_result",
          "data": {
            "text/plain": [
              "array([[0, 0, 1],\n",
              "       [7, 1, 4]])"
            ]
          },
          "metadata": {},
          "execution_count": 3
        }
      ]
    },
    {
      "cell_type": "code",
      "source": [
        "def int_matrix_generator(start,end,shape):\n",
        "  mat=np.random.randint(start,end+1,shape)\n",
        "  return (mat)"
      ],
      "metadata": {
        "id": "Ul5nmZ9gisoH"
      },
      "execution_count": null,
      "outputs": []
    },
    {
      "cell_type": "code",
      "source": [
        "int_matrix_generator(start=0,end=10,shape=(10,10))"
      ],
      "metadata": {
        "colab": {
          "base_uri": "https://localhost:8080/"
        },
        "id": "H4Zr0fE7islJ",
        "outputId": "383dff35-e715-4d66-fb2f-da4d89d70514"
      },
      "execution_count": null,
      "outputs": [
        {
          "output_type": "execute_result",
          "data": {
            "text/plain": [
              "array([[ 3,  0,  6,  8,  3,  3,  5,  8,  1,  5],\n",
              "       [ 0,  5,  6,  6,  3,  2,  7, 10,  7, 10],\n",
              "       [ 0,  6,  7,  9, 10,  1,  7,  6,  7,  1],\n",
              "       [ 0,  8,  0,  9,  7,  4,  6,  0,  4,  1],\n",
              "       [ 3,  4,  1,  1,  1,  2, 10,  6,  6,  1],\n",
              "       [ 6,  1,  2,  5,  0,  9, 10,  2,  5,  9],\n",
              "       [ 3,  6,  2,  9,  2,  8,  8,  6,  7,  2],\n",
              "       [ 2,  3,  9,  4,  0,  3,  9, 10,  5,  7],\n",
              "       [ 4,  6,  7, 10,  5,  2,  2,  8,  8,  1],\n",
              "       [ 6,  3,  7,  8,  4,  8,  6,  3, 10,  5]])"
            ]
          },
          "metadata": {},
          "execution_count": 41
        }
      ]
    },
    {
      "cell_type": "code",
      "source": [
        "int_matrix_generator(start=0,end=100,shape=(10,10))"
      ],
      "metadata": {
        "colab": {
          "base_uri": "https://localhost:8080/"
        },
        "id": "Oh4Ow-Y1ish4",
        "outputId": "74554d7e-0e8a-429e-d1f1-03eae5aceae6"
      },
      "execution_count": null,
      "outputs": [
        {
          "output_type": "execute_result",
          "data": {
            "text/plain": [
              "array([[33, 86, 25, 86, 70, 35, 16, 75, 83, 81],\n",
              "       [16, 46, 66, 45, 40, 60, 92, 19, 98,  8],\n",
              "       [ 5,  3,  7, 77, 37,  0, 79, 32, 61, 83],\n",
              "       [68, 71, 35, 19, 80,  7, 39, 77, 32, 80],\n",
              "       [38, 60, 59, 35, 68, 48, 59, 73, 11, 27],\n",
              "       [20, 66, 33, 46, 67, 25, 39, 34, 30, 35],\n",
              "       [ 0, 12, 26, 10, 57, 19, 17, 95, 74, 64],\n",
              "       [94, 75, 45, 56, 57, 58, 80,  7, 22, 26],\n",
              "       [79, 56, 82, 69, 12,  8, 58, 51, 77,  0],\n",
              "       [36, 86, 93,  9, 85, 28, 77, 75, 14, 88]])"
            ]
          },
          "metadata": {},
          "execution_count": 40
        }
      ]
    },
    {
      "cell_type": "code",
      "source": [
        "mat"
      ],
      "metadata": {
        "colab": {
          "base_uri": "https://localhost:8080/"
        },
        "id": "lJqDlGxlisen",
        "outputId": "9f0d7e2d-fdb4-4a78-a11e-69aaf19ae95d"
      },
      "execution_count": null,
      "outputs": [
        {
          "output_type": "execute_result",
          "data": {
            "text/plain": [
              "array([[ 1,  2,  3,  4,  5],\n",
              "       [ 6,  7,  8,  9, 10],\n",
              "       [11, 12, 13, 14, 15],\n",
              "       [16, 17, 18, 19, 20],\n",
              "       [21, 22, 23, 24, 25]])"
            ]
          },
          "metadata": {},
          "execution_count": 42
        }
      ]
    },
    {
      "cell_type": "markdown",
      "source": [
        "##Lets make a function thats selects portion of a matrix and generate a matrix from it"
      ],
      "metadata": {
        "id": "8RH9JZ9GisbY"
      }
    },
    {
      "cell_type": "code",
      "source": [
        "def mat_selector(mat,rowRange=(0,0),colRange=(0,0)):\n",
        "  new_mat=mat[rowRange[0]:rowRange[1]  ,   colRange[0]:colRange[1]]\n",
        "  return(new_mat)"
      ],
      "metadata": {
        "id": "TqLmhBCwkVe3"
      },
      "execution_count": null,
      "outputs": []
    },
    {
      "cell_type": "code",
      "source": [
        "mat"
      ],
      "metadata": {
        "colab": {
          "base_uri": "https://localhost:8080/"
        },
        "id": "hjg5B3j6lQf-",
        "outputId": "86e3b9f0-0348-415b-e420-bf8597959282"
      },
      "execution_count": null,
      "outputs": [
        {
          "output_type": "execute_result",
          "data": {
            "text/plain": [
              "array([[ 1,  2,  3,  4,  5],\n",
              "       [ 6,  7,  8,  9, 10],\n",
              "       [11, 12, 13, 14, 15],\n",
              "       [16, 17, 18, 19, 20],\n",
              "       [21, 22, 23, 24, 25]])"
            ]
          },
          "metadata": {},
          "execution_count": 7
        }
      ]
    },
    {
      "cell_type": "code",
      "source": [
        "mat[:3,1:2]"
      ],
      "metadata": {
        "colab": {
          "base_uri": "https://localhost:8080/"
        },
        "id": "sy23kIpJk31I",
        "outputId": "e7886cb7-4736-4b25-d97c-7c3bf09218f4"
      },
      "execution_count": null,
      "outputs": [
        {
          "output_type": "execute_result",
          "data": {
            "text/plain": [
              "array([[ 2],\n",
              "       [ 7],\n",
              "       [12]])"
            ]
          },
          "metadata": {},
          "execution_count": 8
        }
      ]
    },
    {
      "cell_type": "code",
      "source": [
        "mat_selector(mat,rowRange=(0,3),colRange=(1,2))"
      ],
      "metadata": {
        "colab": {
          "base_uri": "https://localhost:8080/"
        },
        "id": "GPYCOVOXlT0L",
        "outputId": "0bb8d4ea-cbdd-4474-f831-61555831fec6"
      },
      "execution_count": null,
      "outputs": [
        {
          "output_type": "execute_result",
          "data": {
            "text/plain": [
              "array([[ 2],\n",
              "       [ 7],\n",
              "       [12]])"
            ]
          },
          "metadata": {},
          "execution_count": 9
        }
      ]
    },
    {
      "cell_type": "code",
      "source": [
        "mat_selector(mat,(0,3),(1,2))"
      ],
      "metadata": {
        "colab": {
          "base_uri": "https://localhost:8080/"
        },
        "id": "5pFLdGuln3od",
        "outputId": "727464a6-9766-45ff-e6fe-687a1079ea8b"
      },
      "execution_count": null,
      "outputs": [
        {
          "output_type": "execute_result",
          "data": {
            "text/plain": [
              "array([[ 2],\n",
              "       [ 7],\n",
              "       [12]])"
            ]
          },
          "metadata": {},
          "execution_count": 75
        }
      ]
    },
    {
      "cell_type": "code",
      "source": [
        "mat_selector(mat)"
      ],
      "metadata": {
        "colab": {
          "base_uri": "https://localhost:8080/"
        },
        "id": "-APOkVuDlrnw",
        "outputId": "77cd1027-7f8a-4043-f8c1-749178d5f1eb"
      },
      "execution_count": null,
      "outputs": [
        {
          "output_type": "execute_result",
          "data": {
            "text/plain": [
              "array([], shape=(0, 0), dtype=int64)"
            ]
          },
          "metadata": {},
          "execution_count": 76
        }
      ]
    },
    {
      "cell_type": "code",
      "source": [
        "def mat_selector(mat,rowRange=(0,-1 ),colRange=(0,-1)):\n",
        "  new_mat=mat[rowRange[0]:rowRange[1]  ,   colRange[0]:colRange[1]]\n",
        "  return(new_mat)"
      ],
      "metadata": {
        "id": "7TuTmDS6lrTV"
      },
      "execution_count": null,
      "outputs": []
    },
    {
      "cell_type": "code",
      "source": [
        "mat_selector(mat)"
      ],
      "metadata": {
        "colab": {
          "base_uri": "https://localhost:8080/"
        },
        "id": "_trBd1hSl7Hj",
        "outputId": "3b0f389d-dc78-4605-db0d-3b80ddbebe13"
      },
      "execution_count": null,
      "outputs": [
        {
          "output_type": "execute_result",
          "data": {
            "text/plain": [
              "array([[ 1,  2,  3,  4],\n",
              "       [ 6,  7,  8,  9],\n",
              "       [11, 12, 13, 14],\n",
              "       [16, 17, 18, 19]])"
            ]
          },
          "metadata": {},
          "execution_count": 69
        }
      ]
    },
    {
      "cell_type": "markdown",
      "source": [
        "### ...oops  we were hoping to get the original matrix but it got cut off, something wrong with the function............ How can we select the entire matrix with this function then?"
      ],
      "metadata": {
        "id": "SAeG6w1dnGhJ"
      }
    },
    {
      "cell_type": "code",
      "source": [
        "def mat_selector(mat,rowRange=(0,mat.shape[0]),colRange=(0,mat.shape[1])):\n",
        "\n",
        "  new_mat=mat[rowRange[0]:rowRange[1]  ,   colRange[0]:colRange[1]]\n",
        "  return(new_mat)"
      ],
      "metadata": {
        "id": "bOvixIPHnGc5"
      },
      "execution_count": null,
      "outputs": []
    },
    {
      "cell_type": "code",
      "source": [
        "mat"
      ],
      "metadata": {
        "colab": {
          "base_uri": "https://localhost:8080/"
        },
        "id": "GeIWIWDYmhHi",
        "outputId": "70c1fb71-4b33-4cb0-92c6-b0ec16234486"
      },
      "execution_count": null,
      "outputs": [
        {
          "output_type": "execute_result",
          "data": {
            "text/plain": [
              "array([[ 1,  2,  3,  4,  5],\n",
              "       [ 6,  7,  8,  9, 10],\n",
              "       [11, 12, 13, 14, 15],\n",
              "       [16, 17, 18, 19, 20],\n",
              "       [21, 22, 23, 24, 25]])"
            ]
          },
          "metadata": {},
          "execution_count": 81
        }
      ]
    },
    {
      "cell_type": "code",
      "source": [
        "mat_selector(mat)"
      ],
      "metadata": {
        "colab": {
          "base_uri": "https://localhost:8080/"
        },
        "id": "97YdbKaOpEoU",
        "outputId": "205ce1eb-d92f-4b6b-fa9a-56694101c2b2"
      },
      "execution_count": null,
      "outputs": [
        {
          "output_type": "execute_result",
          "data": {
            "text/plain": [
              "array([[ 1,  2,  3,  4,  5],\n",
              "       [ 6,  7,  8,  9, 10],\n",
              "       [11, 12, 13, 14, 15],\n",
              "       [16, 17, 18, 19, 20],\n",
              "       [21, 22, 23, 24, 25]])"
            ]
          },
          "metadata": {},
          "execution_count": 82
        }
      ]
    },
    {
      "cell_type": "code",
      "source": [
        "mat_selector(mat,(0,3),(1,2))"
      ],
      "metadata": {
        "colab": {
          "base_uri": "https://localhost:8080/"
        },
        "id": "RgFORFDEpT3h",
        "outputId": "4ed8a9cd-2f92-42e4-fb6f-789cfc52d938"
      },
      "execution_count": null,
      "outputs": [
        {
          "output_type": "execute_result",
          "data": {
            "text/plain": [
              "array([[ 2],\n",
              "       [ 7],\n",
              "       [12]])"
            ]
          },
          "metadata": {},
          "execution_count": 83
        }
      ]
    },
    {
      "cell_type": "code",
      "source": [
        "## Write a function that converts every row in a matrix into a list and then inputs the list into a dictionary and returns it"
      ],
      "metadata": {
        "id": "BK-8JEPTpXpH"
      },
      "execution_count": null,
      "outputs": []
    },
    {
      "cell_type": "code",
      "source": [
        "def mat_to_dict (mat):\n"
      ],
      "metadata": {
        "id": "pcGfzIccpss1"
      },
      "execution_count": null,
      "outputs": []
    },
    {
      "cell_type": "code",
      "source": [
        "mat"
      ],
      "metadata": {
        "colab": {
          "base_uri": "https://localhost:8080/"
        },
        "id": "Vxoi06RVR7QL",
        "outputId": "5738a4d1-f287-48a2-b856-1f11d85738df"
      },
      "execution_count": null,
      "outputs": [
        {
          "output_type": "execute_result",
          "data": {
            "text/plain": [
              "array([[ 1,  2,  3,  4,  5],\n",
              "       [ 6,  7,  8,  9, 10],\n",
              "       [11, 12, 13, 14, 15],\n",
              "       [16, 17, 18, 19, 20],\n",
              "       [21, 22, 23, 24, 25]])"
            ]
          },
          "metadata": {},
          "execution_count": 21
        }
      ]
    },
    {
      "cell_type": "code",
      "source": [
        "for i in mat:\n",
        "  print (i)"
      ],
      "metadata": {
        "colab": {
          "base_uri": "https://localhost:8080/"
        },
        "id": "V-m4qsfop3K4",
        "outputId": "73464b0b-ee65-4a90-e56e-1b531013d240"
      },
      "execution_count": null,
      "outputs": [
        {
          "output_type": "stream",
          "name": "stdout",
          "text": [
            "[1 2 3 4 5]\n",
            "[ 6  7  8  9 10]\n",
            "[11 12 13 14 15]\n",
            "[16 17 18 19 20]\n",
            "[21 22 23 24 25]\n"
          ]
        }
      ]
    },
    {
      "cell_type": "code",
      "source": [
        "k=mat.shape[0]\n",
        "k"
      ],
      "metadata": {
        "colab": {
          "base_uri": "https://localhost:8080/"
        },
        "id": "A121FUE-p6Ui",
        "outputId": "fda826c3-be1f-4100-aaf3-5b7ea41942fe"
      },
      "execution_count": null,
      "outputs": [
        {
          "output_type": "execute_result",
          "data": {
            "text/plain": [
              "5"
            ]
          },
          "metadata": {},
          "execution_count": 87
        }
      ]
    },
    {
      "cell_type": "code",
      "source": [
        "d=range(k)"
      ],
      "metadata": {
        "id": "aZJgxcXyqXC9"
      },
      "execution_count": null,
      "outputs": []
    },
    {
      "cell_type": "code",
      "source": [
        "d[4]"
      ],
      "metadata": {
        "colab": {
          "base_uri": "https://localhost:8080/"
        },
        "id": "O-4og0sKqZcn",
        "outputId": "5d17c7d8-554a-48e5-ea88-64686e7bddd2"
      },
      "execution_count": null,
      "outputs": [
        {
          "output_type": "execute_result",
          "data": {
            "text/plain": [
              "4"
            ]
          },
          "metadata": {},
          "execution_count": 92
        }
      ]
    },
    {
      "cell_type": "code",
      "source": [
        "def mat_to_dict (mat):\n",
        "\n",
        "  dicti= {}\n",
        "  rows=mat.shape[0]\n",
        "  cols=mat.shape[1]\n",
        "\n",
        "  r_range=range(rows)\n",
        "  c_range=range(cols)\n",
        "\n",
        "  z=0\n",
        "\n",
        "  for i in mat:\n",
        "\n",
        "    dicti[r_range[z]]=i\n",
        "    z=1+z\n",
        "\n",
        "  return dicti\n",
        "\n",
        "\n"
      ],
      "metadata": {
        "id": "nusZLq5HqiHr"
      },
      "execution_count": null,
      "outputs": []
    },
    {
      "cell_type": "code",
      "source": [
        "mat"
      ],
      "metadata": {
        "colab": {
          "base_uri": "https://localhost:8080/"
        },
        "id": "F-ThMAAtrk17",
        "outputId": "b1ab0f91-06f9-4ba7-96fe-84473f042104"
      },
      "execution_count": null,
      "outputs": [
        {
          "output_type": "execute_result",
          "data": {
            "text/plain": [
              "array([[ 1,  2,  3,  4,  5],\n",
              "       [ 6,  7,  8,  9, 10],\n",
              "       [11, 12, 13, 14, 15],\n",
              "       [16, 17, 18, 19, 20],\n",
              "       [21, 22, 23, 24, 25]])"
            ]
          },
          "metadata": {},
          "execution_count": 119
        }
      ]
    },
    {
      "cell_type": "code",
      "source": [
        "mat_to_dict(mat)"
      ],
      "metadata": {
        "colab": {
          "base_uri": "https://localhost:8080/"
        },
        "id": "bLrekNqjrrTu",
        "outputId": "cc3ae6a2-ea24-44dd-d773-a811a4b7e553"
      },
      "execution_count": null,
      "outputs": [
        {
          "output_type": "execute_result",
          "data": {
            "text/plain": [
              "{0: array([1, 2, 3, 4, 5]),\n",
              " 1: array([ 6,  7,  8,  9, 10]),\n",
              " 2: array([11, 12, 13, 14, 15]),\n",
              " 3: array([16, 17, 18, 19, 20]),\n",
              " 4: array([21, 22, 23, 24, 25])}"
            ]
          },
          "metadata": {},
          "execution_count": 120
        }
      ]
    },
    {
      "cell_type": "code",
      "source": [
        "dicti"
      ],
      "metadata": {
        "colab": {
          "base_uri": "https://localhost:8080/",
          "height": 165
        },
        "id": "j9hKuyxfrt7Z",
        "outputId": "2fdd520b-059b-494d-ea08-b53d8d7ec2ae"
      },
      "execution_count": null,
      "outputs": [
        {
          "output_type": "error",
          "ename": "NameError",
          "evalue": "ignored",
          "traceback": [
            "\u001b[0;31m---------------------------------------------------------------------------\u001b[0m",
            "\u001b[0;31mNameError\u001b[0m                                 Traceback (most recent call last)",
            "\u001b[0;32m<ipython-input-121-8f2a65bbcced>\u001b[0m in \u001b[0;36m<module>\u001b[0;34m\u001b[0m\n\u001b[0;32m----> 1\u001b[0;31m \u001b[0mdicti\u001b[0m\u001b[0;34m\u001b[0m\u001b[0;34m\u001b[0m\u001b[0m\n\u001b[0m",
            "\u001b[0;31mNameError\u001b[0m: name 'dicti' is not defined"
          ]
        }
      ]
    },
    {
      "cell_type": "code",
      "source": [
        "new_dict=mat_to_dict(mat)"
      ],
      "metadata": {
        "id": "LZInqFKWsE6j"
      },
      "execution_count": null,
      "outputs": []
    },
    {
      "cell_type": "code",
      "source": [
        "new_dict"
      ],
      "metadata": {
        "colab": {
          "base_uri": "https://localhost:8080/"
        },
        "id": "yMEe8B-stBpl",
        "outputId": "0da411e6-af81-4625-cdc5-2c28cfa78abc"
      },
      "execution_count": null,
      "outputs": [
        {
          "output_type": "execute_result",
          "data": {
            "text/plain": [
              "{0: array([1, 2, 3, 4, 5]),\n",
              " 1: array([ 6,  7,  8,  9, 10]),\n",
              " 2: array([11, 12, 13, 14, 15]),\n",
              " 3: array([16, 17, 18, 19, 20]),\n",
              " 4: array([21, 22, 23, 24, 25])}"
            ]
          },
          "metadata": {},
          "execution_count": 123
        }
      ]
    },
    {
      "cell_type": "code",
      "source": [
        "type(new_dict)"
      ],
      "metadata": {
        "colab": {
          "base_uri": "https://localhost:8080/"
        },
        "id": "6aDxBmq0tCq-",
        "outputId": "48bd5d0c-513f-412f-e3f3-732ff8dc72bd"
      },
      "execution_count": null,
      "outputs": [
        {
          "output_type": "execute_result",
          "data": {
            "text/plain": [
              "dict"
            ]
          },
          "metadata": {},
          "execution_count": 124
        }
      ]
    },
    {
      "cell_type": "markdown",
      "source": [
        "## OK OK ,   IS this right do you think????????  If Not why?"
      ],
      "metadata": {
        "id": "ih4OHHHFtFEc"
      }
    },
    {
      "cell_type": "code",
      "source": [
        "def mat_to_dict (mat):\n",
        "\n",
        "  dicti= {}\n",
        "  rows=mat.shape[0]\n",
        "  cols=mat.shape[1]\n",
        "\n",
        "  r_range=range(rows)\n",
        "  c_range=range(cols)\n",
        "\n",
        "  z=0\n",
        "\n",
        "  for i in mat:\n",
        "\n",
        "    dicti['row'+ str(r_range[z])]=list(i)\n",
        "    z=1+z\n",
        "\n",
        "  return dicti"
      ],
      "metadata": {
        "id": "4MxXDd5StPCl"
      },
      "execution_count": null,
      "outputs": []
    },
    {
      "cell_type": "code",
      "source": [
        "mat_to_dict(mat)"
      ],
      "metadata": {
        "colab": {
          "base_uri": "https://localhost:8080/"
        },
        "id": "IyVLoyFptVu0",
        "outputId": "c3e08a71-2cd2-42c9-8792-de799e555312"
      },
      "execution_count": null,
      "outputs": [
        {
          "output_type": "execute_result",
          "data": {
            "text/plain": [
              "{'row0': [1, 2, 3, 4, 5],\n",
              " 'row1': [6, 7, 8, 9, 10],\n",
              " 'row2': [11, 12, 13, 14, 15],\n",
              " 'row3': [16, 17, 18, 19, 20],\n",
              " 'row4': [21, 22, 23, 24, 25]}"
            ]
          },
          "metadata": {},
          "execution_count": 136
        }
      ]
    },
    {
      "cell_type": "markdown",
      "source": [
        "... OK LSBU Elite....  Here is a challenge for you\n",
        "\n",
        "\n",
        "\n",
        "\n",
        "How would you change the code to have the program to return a dictionary of columns?\n",
        "\n",
        "\n",
        "HINT:  Think Linear Algebra"
      ],
      "metadata": {
        "id": "LnAMLJJit3dc"
      }
    },
    {
      "cell_type": "code",
      "source": [
        "for i in mat.T:\n",
        "  print (i)"
      ],
      "metadata": {
        "colab": {
          "base_uri": "https://localhost:8080/"
        },
        "id": "ZLyzyo4JtY6f",
        "outputId": "3c171ca5-09cf-4a30-ab57-d7e2acddcbe4"
      },
      "execution_count": null,
      "outputs": [
        {
          "output_type": "stream",
          "name": "stdout",
          "text": [
            "[ 1  6 11 16 21]\n",
            "[ 2  7 12 17 22]\n",
            "[ 3  8 13 18 23]\n",
            "[ 4  9 14 19 24]\n",
            "[ 5 10 15 20 25]\n"
          ]
        }
      ]
    },
    {
      "cell_type": "code",
      "source": [
        "H=np.zeros((10,10))"
      ],
      "metadata": {
        "id": "Pr7LXMM4tnWf"
      },
      "execution_count": null,
      "outputs": []
    },
    {
      "cell_type": "code",
      "source": [
        "H"
      ],
      "metadata": {
        "colab": {
          "base_uri": "https://localhost:8080/"
        },
        "id": "nfepfq2RuWuR",
        "outputId": "32fd500f-0af3-4afe-93bf-9a94ad97a275"
      },
      "execution_count": null,
      "outputs": [
        {
          "output_type": "execute_result",
          "data": {
            "text/plain": [
              "array([[0., 0., 0., 0., 0., 0., 0., 0., 0., 0.],\n",
              "       [0., 0., 0., 0., 0., 0., 0., 0., 0., 0.],\n",
              "       [0., 0., 0., 0., 0., 0., 0., 0., 0., 0.],\n",
              "       [0., 0., 0., 0., 0., 0., 0., 0., 0., 0.],\n",
              "       [0., 0., 0., 0., 0., 0., 0., 0., 0., 0.],\n",
              "       [0., 0., 0., 0., 0., 0., 0., 0., 0., 0.],\n",
              "       [0., 0., 0., 0., 0., 0., 0., 0., 0., 0.],\n",
              "       [0., 0., 0., 0., 0., 0., 0., 0., 0., 0.],\n",
              "       [0., 0., 0., 0., 0., 0., 0., 0., 0., 0.],\n",
              "       [0., 0., 0., 0., 0., 0., 0., 0., 0., 0.]])"
            ]
          },
          "metadata": {},
          "execution_count": 144
        }
      ]
    },
    {
      "cell_type": "code",
      "source": [
        "H[5,:]=1\n",
        "H[:,0]=1\n",
        "H[:,-1]=1"
      ],
      "metadata": {
        "id": "4l7i6fxox7FU"
      },
      "execution_count": null,
      "outputs": []
    },
    {
      "cell_type": "code",
      "source": [
        "H"
      ],
      "metadata": {
        "colab": {
          "base_uri": "https://localhost:8080/"
        },
        "id": "Ss0vNDxjyFFK",
        "outputId": "753789c2-d14c-474a-c71a-40095ce6ce06"
      },
      "execution_count": null,
      "outputs": [
        {
          "output_type": "execute_result",
          "data": {
            "text/plain": [
              "array([[1., 0., 0., 0., 0., 0., 0., 0., 0., 1.],\n",
              "       [1., 0., 0., 0., 0., 0., 0., 0., 0., 1.],\n",
              "       [1., 0., 0., 0., 0., 0., 0., 0., 0., 1.],\n",
              "       [1., 0., 0., 0., 0., 0., 0., 0., 0., 1.],\n",
              "       [1., 0., 0., 0., 0., 0., 0., 0., 0., 1.],\n",
              "       [1., 1., 1., 1., 1., 1., 1., 1., 1., 1.],\n",
              "       [1., 0., 0., 0., 0., 0., 0., 0., 0., 1.],\n",
              "       [1., 0., 0., 0., 0., 0., 0., 0., 0., 1.],\n",
              "       [1., 0., 0., 0., 0., 0., 0., 0., 0., 1.],\n",
              "       [1., 0., 0., 0., 0., 0., 0., 0., 0., 1.]])"
            ]
          },
          "metadata": {},
          "execution_count": 148
        }
      ]
    },
    {
      "cell_type": "code",
      "source": [
        "import matplotlib.pyplot as plt"
      ],
      "metadata": {
        "id": "PGl79hxNyVyN"
      },
      "execution_count": null,
      "outputs": []
    },
    {
      "cell_type": "code",
      "source": [
        "plt.imshow(H)"
      ],
      "metadata": {
        "colab": {
          "base_uri": "https://localhost:8080/",
          "height": 282
        },
        "id": "y282p_MRyZHr",
        "outputId": "d32f3317-9e9a-4a35-bac4-1d52bfb09102"
      },
      "execution_count": null,
      "outputs": [
        {
          "output_type": "execute_result",
          "data": {
            "text/plain": [
              "<matplotlib.image.AxesImage at 0x7f659af68a10>"
            ]
          },
          "metadata": {},
          "execution_count": 152
        },
        {
          "output_type": "display_data",
          "data": {
            "text/plain": [
              "<Figure size 432x288 with 1 Axes>"
            ],
            "image/png": "[encoded data removed]"
          },
          "metadata": {
            "needs_background": "light"
          }
        }
      ]
    },
    {
      "cell_type": "markdown",
      "source": [
        "### Numpy and Time Series"
      ],
      "metadata": {
        "id": "lHaymKPVyaDj"
      }
    },
    {
      "cell_type": "code",
      "source": [
        "import numpy as np"
      ],
      "metadata": {
        "id": "tOGIjhiRoGYk"
      },
      "execution_count": null,
      "outputs": []
    },
    {
      "cell_type": "code",
      "source": [
        "np.array([1,2])"
      ],
      "metadata": {
        "id": "5Sy9rQ9eXzsj",
        "outputId": "6555ebb9-8736-470d-e3b9-40cebbd0c593",
        "colab": {
          "base_uri": "https://localhost:8080/"
        }
      },
      "execution_count": null,
      "outputs": [
        {
          "output_type": "execute_result",
          "data": {
            "text/plain": [
              "array([1, 2])"
            ]
          },
          "metadata": {},
          "execution_count": 23
        }
      ]
    },
    {
      "cell_type": "code",
      "source": [
        "np.array(['2016-03-15','2017-05-24'],dtype='datetime64[Y]')"
      ],
      "metadata": {
        "colab": {
          "base_uri": "https://localhost:8080/"
        },
        "id": "Fs58MpVvoKFS",
        "outputId": "ffa3b704-7694-44b4-8065-8c6610739e73"
      },
      "execution_count": null,
      "outputs": [
        {
          "output_type": "execute_result",
          "data": {
            "text/plain": [
              "array(['2016', '2017'], dtype='datetime64[Y]')"
            ]
          },
          "metadata": {},
          "execution_count": 13
        }
      ]
    },
    {
      "cell_type": "code",
      "source": [
        "\n",
        "\n",
        "\n",
        "\n",
        "\n",
        "np.array(['2016-03-15','2017-05-24'],dtype='datetime64[M]')"
      ],
      "metadata": {
        "colab": {
          "base_uri": "https://localhost:8080/"
        },
        "id": "9lqneZkVolrJ",
        "outputId": "f0f8c2f7-e252-4b47-c98b-b4f20aebfa3c"
      },
      "execution_count": null,
      "outputs": [
        {
          "output_type": "execute_result",
          "data": {
            "text/plain": [
              "array(['2016-03', '2017-05'], dtype='datetime64[M]')"
            ]
          },
          "metadata": {},
          "execution_count": 14
        }
      ]
    },
    {
      "cell_type": "code",
      "source": [
        "np.array(['2016-03-15','2017-05-24'],dtype='datetime64[D]')"
      ],
      "metadata": {
        "colab": {
          "base_uri": "https://localhost:8080/"
        },
        "id": "mOH5qYRiowAK",
        "outputId": "55b6ff6c-afc2-4a6f-be77-d5e50544063e"
      },
      "execution_count": null,
      "outputs": [
        {
          "output_type": "execute_result",
          "data": {
            "text/plain": [
              "array(['2016-03-15', '2017-05-24'], dtype='datetime64[D]')"
            ]
          },
          "metadata": {},
          "execution_count": 15
        }
      ]
    },
    {
      "cell_type": "code",
      "source": [
        "np.array(['2016-03-15','2017-05-24'],dtype='datetime64[h]')"
      ],
      "metadata": {
        "colab": {
          "base_uri": "https://localhost:8080/"
        },
        "id": "hGfhz4cSo1U4",
        "outputId": "4d1544a9-02d2-4afe-e84a-34f23a74d664"
      },
      "execution_count": null,
      "outputs": [
        {
          "output_type": "execute_result",
          "data": {
            "text/plain": [
              "array(['2016-03-15T00', '2017-05-24T00'], dtype='datetime64[h]')"
            ]
          },
          "metadata": {},
          "execution_count": 16
        }
      ]
    },
    {
      "cell_type": "code",
      "source": [
        "\n",
        "np.array(['2016-03-15','2017-05-24'],dtype='datetime64[m]')"
      ],
      "metadata": {
        "colab": {
          "base_uri": "https://localhost:8080/"
        },
        "id": "gbL3F3Rzo5Gx",
        "outputId": "1615efef-c3e5-4bc5-cdb4-262f8efefaf9"
      },
      "execution_count": null,
      "outputs": [
        {
          "output_type": "execute_result",
          "data": {
            "text/plain": [
              "array(['2016-03-15T00:00', '2017-05-24T00:00'], dtype='datetime64[m]')"
            ]
          },
          "metadata": {},
          "execution_count": 17
        }
      ]
    },
    {
      "cell_type": "code",
      "source": [
        "np.array(['2016-03-15','2017-05-24'],dtype='datetime64[s]')"
      ],
      "metadata": {
        "colab": {
          "base_uri": "https://localhost:8080/"
        },
        "id": "MpWyQwwFo9Jc",
        "outputId": "59fd076e-205e-47a4-e89a-2316c418d454"
      },
      "execution_count": null,
      "outputs": [
        {
          "output_type": "execute_result",
          "data": {
            "text/plain": [
              "array(['2016-03-15T00:00:00', '2017-05-24T00:00:00'],\n",
              "      dtype='datetime64[s]')"
            ]
          },
          "metadata": {},
          "execution_count": 18
        }
      ]
    },
    {
      "cell_type": "code",
      "source": [
        "np.array(['2016-03-15','2017-05-24'],dtype='datetime64[ms]')"
      ],
      "metadata": {
        "colab": {
          "base_uri": "https://localhost:8080/"
        },
        "id": "Z-PTsQXEpAzl",
        "outputId": "4b4b92be-d63e-4b5c-a104-7999db68411f"
      },
      "execution_count": null,
      "outputs": [
        {
          "output_type": "execute_result",
          "data": {
            "text/plain": [
              "array(['2016-03-15T00:00:00.000', '2017-05-24T00:00:00.000'],\n",
              "      dtype='datetime64[ms]')"
            ]
          },
          "metadata": {},
          "execution_count": 19
        }
      ]
    },
    {
      "cell_type": "markdown",
      "source": [
        "OK , Cool  lets now generate a Time series date columsn with Numpy"
      ],
      "metadata": {
        "id": "PGH8arRnpDn4"
      }
    },
    {
      "cell_type": "code",
      "source": [
        "np.arange('2018-06-01','2022-06-01',dtype='datetime64[M]')"
      ],
      "metadata": {
        "colab": {
          "base_uri": "https://localhost:8080/"
        },
        "id": "2Lls3McOpLLd",
        "outputId": "8f85d66e-5894-44a8-ba96-fb9be294dfaf"
      },
      "execution_count": null,
      "outputs": [
        {
          "output_type": "execute_result",
          "data": {
            "text/plain": [
              "array(['2018-06', '2018-07', '2018-08', '2018-09', '2018-10', '2018-11',\n",
              "       '2018-12', '2019-01', '2019-02', '2019-03', '2019-04', '2019-05',\n",
              "       '2019-06', '2019-07', '2019-08', '2019-09', '2019-10', '2019-11',\n",
              "       '2019-12', '2020-01', '2020-02', '2020-03', '2020-04', '2020-05',\n",
              "       '2020-06', '2020-07', '2020-08', '2020-09', '2020-10', '2020-11',\n",
              "       '2020-12', '2021-01', '2021-02', '2021-03', '2021-04', '2021-05',\n",
              "       '2021-06', '2021-07', '2021-08', '2021-09', '2021-10', '2021-11',\n",
              "       '2021-12', '2022-01', '2022-02', '2022-03', '2022-04', '2022-05'],\n",
              "      dtype='datetime64[M]')"
            ]
          },
          "metadata": {},
          "execution_count": 20
        }
      ]
    },
    {
      "cell_type": "code",
      "source": [
        "np.arange('2018-06-01','2022-06-01',dtype='datetime64[D]')"
      ],
      "metadata": {
        "colab": {
          "base_uri": "https://localhost:8080/"
        },
        "id": "drSx4lAxpku6",
        "outputId": "beb43adb-c45a-4129-b7a8-a07da91c5f5c"
      },
      "execution_count": null,
      "outputs": [
        {
          "output_type": "execute_result",
          "data": {
            "text/plain": [
              "array(['2018-06-01', '2018-06-02', '2018-06-03', ..., '2022-05-29',\n",
              "       '2022-05-30', '2022-05-31'], dtype='datetime64[D]')"
            ]
          },
          "metadata": {},
          "execution_count": 21
        }
      ]
    },
    {
      "cell_type": "code",
      "source": [
        "How many days are between these to dates?"
      ],
      "metadata": {
        "colab": {
          "base_uri": "https://localhost:8080/"
        },
        "id": "dIUCbFdJ4Nu1",
        "outputId": "ebcb6dba-a265-4959-c1ca-c93ada106810"
      },
      "execution_count": null,
      "outputs": [
        {
          "output_type": "stream",
          "name": "stdout",
          "text": [
            "Object `dates` not found.\n"
          ]
        }
      ]
    },
    {
      "cell_type": "code",
      "source": [
        "len(np.arange('2018-06-01','2022-06-01',dtype='datetime64[D]'))"
      ],
      "metadata": {
        "colab": {
          "base_uri": "https://localhost:8080/"
        },
        "id": "hZbXgxCD4IWq",
        "outputId": "e9a1de8c-4ae8-43fa-ab0d-e2bdfa0a9f59"
      },
      "execution_count": null,
      "outputs": [
        {
          "output_type": "execute_result",
          "data": {
            "text/plain": [
              "1461"
            ]
          },
          "metadata": {},
          "execution_count": 22
        }
      ]
    },
    {
      "cell_type": "code",
      "source": [
        "np.arange('2018-06-01','2022-06-01',dtype='datetime64[D]').shape"
      ],
      "metadata": {
        "colab": {
          "base_uri": "https://localhost:8080/"
        },
        "id": "rMD33RhB4LiR",
        "outputId": "455263e2-9d6f-41a2-d249-0e8717c0828e"
      },
      "execution_count": null,
      "outputs": [
        {
          "output_type": "execute_result",
          "data": {
            "text/plain": [
              "(1461,)"
            ]
          },
          "metadata": {},
          "execution_count": 24
        }
      ]
    },
    {
      "cell_type": "code",
      "source": [
        "np.arange('2018-06-01','2022-06-01',dtype='datetime64[h]')"
      ],
      "metadata": {
        "colab": {
          "base_uri": "https://localhost:8080/"
        },
        "id": "qqGyGAId4UTy",
        "outputId": "ac3888c4-e6cc-4106-fb4e-a99abc0794f1"
      },
      "execution_count": null,
      "outputs": [
        {
          "output_type": "execute_result",
          "data": {
            "text/plain": [
              "array(['2018-06-01T00', '2018-06-01T01', '2018-06-01T02', ...,\n",
              "       '2022-05-31T21', '2022-05-31T22', '2022-05-31T23'],\n",
              "      dtype='datetime64[h]')"
            ]
          },
          "metadata": {},
          "execution_count": 25
        }
      ]
    },
    {
      "cell_type": "code",
      "source": [],
      "metadata": {
        "id": "Yk43J2Ul4bvG"
      },
      "execution_count": null,
      "outputs": []
    }
  ],
  "metadata": {
    "kernelspec": {
      "display_name": "Python 3",
      "language": "python",
      "name": "python3"
    },
    "language_info": {
      "codemirror_mode": {
        "name": "ipython",
        "version": 3
      },
      "file_extension": ".py",
      "mimetype": "text/x-python",
      "name": "python",
      "nbconvert_exporter": "python",
      "pygments_lexer": "ipython3",
      "version": "3.5.1"
    },
    "colab": {
      "provenance": []
    }
  },
  "nbformat": 4,
  "nbformat_minor": 0
}